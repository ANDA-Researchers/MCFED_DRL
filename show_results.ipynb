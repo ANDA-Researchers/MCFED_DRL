{
 "cells": [
  {
   "cell_type": "code",
   "execution_count": 583,
   "metadata": {},
   "outputs": [],
   "source": [
    "import json\n",
    "import os\n",
    "\n",
    "import matplotlib.pyplot as plt\n",
    "import numpy as np\n",
    "\n",
    "result_dir = os.path.join(os.getcwd(), \"results\")\n",
    "results = os.listdir(result_dir)\n",
    "\n",
    "def load(f):\n",
    "    file_dir = os.path.join(result_dir, f, \"results.json\")\n",
    "    with open(file_dir, \"r\") as f:\n",
    "\n",
    "        results = json.load(f)\n",
    "    return results\n",
    "\n",
    "# create a function that captalizes the first letter of a word\n",
    "def capitalize(string):\n",
    "    return string[0].upper() + string[1:]\n",
    "\n",
    "def load_from_query(query):\n",
    "    results = []\n",
    "    for f in os.listdir(result_dir):\n",
    "        if f.find(query) != -1:\n",
    "            return load(f)\n",
    "    return None\n",
    "\n",
    "def show(data, scale=1):\n",
    "    for d in data:\n",
    "        print(\"|\".join([f\"{x*scale if x else 0:.4f}\" for x in d]))\n",
    "        \n",
    "cache_sizes = [5, 10, 30, 50, 80, 100]\n",
    "NR = 3\n",
    "Nr = 30\n",
    "\n",
    "avg_delay = []\n",
    "hit_ratio = []\n",
    "success_ratio = []\n",
    "labels = []\n",
    "\n",
    "for cache in [\"random\",\"mcfed\",\"avgfed\",\"nocache\",]:\n",
    "    for delivery in [\"random\", \"greedy\", \"drl\", \"norsu\"]:\n",
    "                if cache in [\"random\", \"avgfed\", \"nocache\"] and delivery not in [\n",
    "                    \"drl\",\n",
    "                    \"norsu\",\n",
    "                ]:\n",
    "                    continue\n",
    "                if delivery == \"norsu\" and cache != \"random\":\n",
    "                    continue\n",
    "                \n",
    "                labels.append(f\"{capitalize(cache)}_{capitalize(delivery)}\")\n",
    "                sub_data1 = []\n",
    "                sub_data2 = []\n",
    "                sub_data3 = []\n",
    "                for cache_size in cache_sizes:\n",
    "                    query = f\"{NR}_{cache_size}_{Nr}_{cache}_{delivery}\"\n",
    "                    result = load_from_query(query)\n",
    "                    if result:\n",
    "                        sub_data1.append(np.mean(result[\"round_avg_delay_tracking\"]))\n",
    "                        sub_data2.append(np.mean(result[\"round_hit_ratio_tracking\"]))\n",
    "                        sub_data3.append(np.mean(result[\"round_success_ratio_tracking\"]))\n",
    "                    else:\n",
    "                        sub_data1.append(None)\n",
    "                        sub_data2.append(None)\n",
    "                        sub_data3.append(None)\n",
    "                avg_delay.append(sub_data1)\n",
    "                hit_ratio.append(sub_data2)\n",
    "                success_ratio.append(sub_data3)"
   ]
  },
  {
   "cell_type": "code",
   "execution_count": 584,
   "metadata": {},
   "outputs": [
    {
     "data": {
      "text/plain": [
       "['Random_Drl',\n",
       " 'Random_Norsu',\n",
       " 'Mcfed_Random',\n",
       " 'Mcfed_Greedy',\n",
       " 'Mcfed_Drl',\n",
       " 'Avgfed_Drl',\n",
       " 'Nocache_Drl']"
      ]
     },
     "execution_count": 584,
     "metadata": {},
     "output_type": "execute_result"
    }
   ],
   "source": [
    "labels"
   ]
  },
  {
   "cell_type": "code",
   "execution_count": 585,
   "metadata": {},
   "outputs": [
    {
     "name": "stdout",
     "output_type": "stream",
     "text": [
      "186.8738|186.8551|186.0597|185.8613|184.9967|184.6660\n",
      "365.2666|364.3428|364.2805|362.8977|364.9506|364.1090\n",
      "225.2321|224.0670|225.0280|219.3653|226.3719|218.8423\n",
      "205.8209|190.4602|196.0688|177.1901|176.6276|162.3408\n",
      "185.7054|184.1283|181.5899|179.2223|177.1178|172.2337\n",
      "185.3326|184.4758|181.1782|178.5757|174.4519|175.3588\n",
      "186.9231|187.0024|187.0435|186.9239|187.1567|186.9664\n"
     ]
    }
   ],
   "source": [
    "show(avg_delay, 1000)"
   ]
  },
  {
   "cell_type": "code",
   "execution_count": 586,
   "metadata": {},
   "outputs": [
    {
     "name": "stdout",
     "output_type": "stream",
     "text": [
      "0.0014|0.0036|0.0134|0.0194|0.0363|0.0453\n",
      "0.0000|0.0000|0.0000|0.0000|0.0000|0.0000\n",
      "0.0189|0.0304|0.0627|0.0941|0.1328|0.1584\n",
      "0.0672|0.1116|0.2339|0.3198|0.4875|0.5865\n",
      "0.0226|0.0409|0.0809|0.1246|0.1560|0.2324\n",
      "0.0246|0.0386|0.0926|0.1334|0.1936|0.1873\n",
      "0.0000|0.0000|0.0000|0.0000|0.0000|0.0000\n"
     ]
    }
   ],
   "source": [
    "show(hit_ratio)"
   ]
  }
 ],
 "metadata": {
  "kernelspec": {
   "display_name": "mcfed",
   "language": "python",
   "name": "python3"
  },
  "language_info": {
   "codemirror_mode": {
    "name": "ipython",
    "version": 3
   },
   "file_extension": ".py",
   "mimetype": "text/x-python",
   "name": "python",
   "nbconvert_exporter": "python",
   "pygments_lexer": "ipython3",
   "version": "3.10.15"
  }
 },
 "nbformat": 4,
 "nbformat_minor": 2
}
