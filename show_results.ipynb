{
 "cells": [
  {
   "cell_type": "code",
   "execution_count": 161,
   "metadata": {},
   "outputs": [],
   "source": [
    "import json\n",
    "import os\n",
    "\n",
    "import matplotlib.pyplot as plt\n",
    "import numpy as np\n",
    "import pandas as pd\n",
    "\n",
    "result_dir = os.path.join(os.getcwd(), \"results_True\")\n",
    "results = os.listdir(result_dir)\n",
    "\n",
    "\n",
    "def load(f):\n",
    "    file_dir = os.path.join(result_dir, f, \"results.json\")\n",
    "    with open(file_dir, \"r\") as f:\n",
    "\n",
    "        results = json.load(f)\n",
    "    return results\n",
    "\n",
    "\n",
    "# create a function that captalizes the first letter of a word\n",
    "def capitalize(string):\n",
    "    return string[0].upper() + string[1:]\n",
    "\n",
    "\n",
    "def load_from_query(query):\n",
    "    results = []\n",
    "    for f in os.listdir(result_dir):\n",
    "        if f.find(query) != -1:\n",
    "            return load(f)\n",
    "    return None\n",
    "\n",
    "\n",
    "def show(data, scale=1, labels=None):\n",
    "    for i, d in enumerate(data):\n",
    "        print(\n",
    "            (\"\" if not labels else labels[i])\n",
    "            + \" \"\n",
    "            + \"|\".join([f\"{x*scale if x != None else -1:.4f}\" for x in d])\n",
    "        )\n",
    "\n",
    "    # Create a folder called \"csv\" if it doesn't exist\n",
    "    csv_dir = os.path.join(os.getcwd(), \"csv\")\n",
    "    os.makedirs(csv_dir, exist_ok=True)\n",
    "\n",
    "    # Write the data to CSV files in the \"csv\" folder\n",
    "    pd.DataFrame(avg_delay, index=labels, columns=cache_sizes).to_csv(\n",
    "        os.path.join(csv_dir, \"avg_delay.csv\")\n",
    "    )\n",
    "    pd.DataFrame(hit_ratio, index=labels, columns=cache_sizes).to_csv(\n",
    "        os.path.join(csv_dir, \"hit_ratio.csv\")\n",
    "    )\n",
    "    pd.DataFrame(success_ratio, index=labels, columns=cache_sizes).to_csv(\n",
    "        os.path.join(csv_dir, \"success_ratio.csv\")\n",
    "    )\n",
    "\n",
    "\n",
    "cache_sizes = [\n",
    "    50,\n",
    "    75,\n",
    "    100,\n",
    "    125,\n",
    "    150,\n",
    "    175,\n",
    "    200,\n",
    "]\n",
    "NR = 3\n",
    "Nr = 30\n",
    "\n",
    "avg_delay = []\n",
    "hit_ratio = []\n",
    "success_ratio = []\n",
    "labels = []\n",
    "\n",
    "for cache in [\n",
    "    \"random\",\n",
    "    \"mcfed\",\n",
    "    \"avgfed\",\n",
    "    \"nocache\",\n",
    "]:\n",
    "    for delivery in [\"random\", \"greedy\", \"drl\", \"norsu\"]:\n",
    "        if cache in [\"random\", \"avgfed\", \"nocache\"] and delivery not in [\n",
    "            \"drl\",\n",
    "            \"norsu\",\n",
    "        ]:\n",
    "            continue\n",
    "        if delivery == \"norsu\" and cache != \"random\":\n",
    "            continue\n",
    "\n",
    "        labels.append(f\"{capitalize(cache)}_{capitalize(delivery)}\")\n",
    "        sub_data1 = []\n",
    "        sub_data2 = []\n",
    "        sub_data3 = []\n",
    "        for cache_size in cache_sizes:\n",
    "            query = f\"{NR}_{cache_size}_{Nr}_{cache}_{delivery}\"\n",
    "            result = load_from_query(query)\n",
    "            if result:\n",
    "                sub_data1.append(np.mean(result[\"round_avg_delay_tracking\"]))\n",
    "                sub_data2.append(np.mean(result[\"round_hit_ratio_tracking\"]))\n",
    "                sub_data3.append(np.mean(result[\"round_success_ratio_tracking\"]))\n",
    "            else:\n",
    "                sub_data1.append(None)\n",
    "                sub_data2.append(None)\n",
    "                sub_data3.append(None)\n",
    "        avg_delay.append(sub_data1)\n",
    "        hit_ratio.append(sub_data2)\n",
    "        success_ratio.append(sub_data3)"
   ]
  },
  {
   "cell_type": "code",
   "execution_count": 162,
   "metadata": {},
   "outputs": [
    {
     "data": {
      "text/plain": [
       "['Random_Drl',\n",
       " 'Random_Norsu',\n",
       " 'Mcfed_Random',\n",
       " 'Mcfed_Greedy',\n",
       " 'Mcfed_Drl',\n",
       " 'Avgfed_Drl',\n",
       " 'Nocache_Drl']"
      ]
     },
     "execution_count": 162,
     "metadata": {},
     "output_type": "execute_result"
    }
   ],
   "source": [
    "labels"
   ]
  },
  {
   "cell_type": "code",
   "execution_count": 163,
   "metadata": {},
   "outputs": [
    {
     "name": "stdout",
     "output_type": "stream",
     "text": [
      "Random_Drl 280.2540|272.8095|272.5214|270.7990|270.2114|267.8026|277.6809\n",
      "Random_Norsu 365.0044|364.3861|363.7089|363.7208|365.4846|364.5453|363.5685\n",
      "Mcfed_Random 266.7606|265.4980|262.3030|265.0022|261.4415|262.1577|260.4523\n",
      "Mcfed_Greedy 272.6803|259.9850|257.9839|250.3510|244.5455|238.8611|237.9841\n",
      "Mcfed_Drl 264.8744|267.3753|261.3971|262.8085|266.6302|263.0632|259.9954\n",
      "Avgfed_Drl 279.9762|266.3984|268.5590|265.4123|267.1973|273.3872|263.0606\n",
      "Nocache_Drl 276.5774|272.8644|275.4563|274.0449|271.1295|272.4993|272.5234\n"
     ]
    }
   ],
   "source": [
    "show(avg_delay, 1000, labels)"
   ]
  },
  {
   "cell_type": "code",
   "execution_count": 164,
   "metadata": {},
   "outputs": [
    {
     "name": "stdout",
     "output_type": "stream",
     "text": [
      "Random_Drl 0.8111|1.3111|1.5778|2.1378|2.5000|3.1444|3.0689\n",
      "Random_Norsu 0.0000|0.0000|0.0000|0.0000|0.0000|0.0000|0.0000\n",
      "Mcfed_Random 5.5356|8.0511|10.7711|10.8267|12.7111|13.5333|15.3356\n",
      "Mcfed_Greedy 19.5644|28.6378|29.7156|35.1378|38.5133|43.6533|44.9667\n",
      "Mcfed_Drl 7.8133|8.7800|17.6400|13.2889|12.4244|15.6533|14.9489\n",
      "Avgfed_Drl 4.5756|7.0333|8.3600|9.3044|10.8867|9.9711|12.1022\n",
      "Nocache_Drl 0.0000|0.0000|0.0000|0.0000|0.0000|0.0000|0.0000\n"
     ]
    }
   ],
   "source": [
    "show(hit_ratio, 100, labels)"
   ]
  },
  {
   "cell_type": "code",
   "execution_count": 165,
   "metadata": {},
   "outputs": [
    {
     "name": "stdout",
     "output_type": "stream",
     "text": [
      "Random_Drl 47.4044|51.1978|51.8844|51.9933|52.0289|53.2511|47.5111\n",
      "Random_Norsu 100.0000|100.0000|100.0000|100.0000|100.0000|100.0000|100.0000\n",
      "Mcfed_Random 74.5133|74.6622|75.4644|75.0667|75.6311|75.8911|75.6489\n",
      "Mcfed_Greedy 72.0000|73.0067|70.2733|64.4044|65.6400|63.8000|59.7622\n",
      "Mcfed_Drl 52.6778|51.4156|73.9267|51.7111|50.4756|51.1889|52.5622\n",
      "Avgfed_Drl 46.1711|52.9689|50.7933|52.5156|50.3489|47.4400|52.4867\n",
      "Nocache_Drl 49.5800|51.8244|49.9267|51.0689|52.3089|51.7044|52.2778\n"
     ]
    }
   ],
   "source": [
    "show(success_ratio, 100, labels)"
   ]
  }
 ],
 "metadata": {
  "kernelspec": {
   "display_name": "mcfed",
   "language": "python",
   "name": "python3"
  },
  "language_info": {
   "codemirror_mode": {
    "name": "ipython",
    "version": 3
   },
   "file_extension": ".py",
   "mimetype": "text/x-python",
   "name": "python",
   "nbconvert_exporter": "python",
   "pygments_lexer": "ipython3",
   "version": "3.10.15"
  }
 },
 "nbformat": 4,
 "nbformat_minor": 2
}
