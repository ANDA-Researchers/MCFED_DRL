{
 "cells": [
  {
   "cell_type": "code",
   "execution_count": 758,
   "metadata": {},
   "outputs": [],
   "source": [
    "import json\n",
    "import os\n",
    "\n",
    "import matplotlib.pyplot as plt\n",
    "import numpy as np\n",
    "\n",
    "result_dir = os.path.join(os.getcwd(), \"results\")\n",
    "results = os.listdir(result_dir)\n",
    "\n",
    "def load(f):\n",
    "    file_dir = os.path.join(result_dir, f, \"results.json\")\n",
    "    with open(file_dir, \"r\") as f:\n",
    "\n",
    "        results = json.load(f)\n",
    "    return results\n",
    "\n",
    "# create a function that captalizes the first letter of a word\n",
    "def capitalize(string):\n",
    "    return string[0].upper() + string[1:]\n",
    "\n",
    "def load_from_query(query):\n",
    "    results = []\n",
    "    for f in os.listdir(result_dir):\n",
    "        if f.find(query) != -1:\n",
    "            return load(f)\n",
    "    return None\n",
    "\n",
    "def show(data, scale=1, labels = None):\n",
    "    for i, d in enumerate(data):\n",
    "        print(\"\" if not labels else labels[i] + \" \" + \"|\".join([f\"{x*scale if x else 0:.4f}\" for x in d]))\n",
    "        \n",
    "cache_sizes = [5, 10, 30, 50, 80, 100]\n",
    "NR = 3\n",
    "Nr = 30\n",
    "\n",
    "avg_delay = []\n",
    "hit_ratio = []\n",
    "success_ratio = []\n",
    "labels = []\n",
    "\n",
    "for cache in [\"random\",\"mcfed\",\"avgfed\",\"nocache\",]:\n",
    "    for delivery in [\"random\", \"greedy\", \"drl\", \"norsu\"]:\n",
    "                if cache in [\"random\", \"avgfed\", \"nocache\"] and delivery not in [\n",
    "                    \"drl\",\n",
    "                    \"norsu\",\n",
    "                ]:\n",
    "                    continue\n",
    "                if delivery == \"norsu\" and cache != \"random\":\n",
    "                    continue\n",
    "                \n",
    "                labels.append(f\"{capitalize(cache)}_{capitalize(delivery)}\")\n",
    "                sub_data1 = []\n",
    "                sub_data2 = []\n",
    "                sub_data3 = []\n",
    "                for cache_size in cache_sizes:\n",
    "                    query = f\"{NR}_{cache_size}_{Nr}_{cache}_{delivery}\"\n",
    "                    result = load_from_query(query)\n",
    "                    if result:\n",
    "                        sub_data1.append(np.mean(result[\"round_avg_delay_tracking\"]))\n",
    "                        sub_data2.append(np.mean(result[\"round_hit_ratio_tracking\"]))\n",
    "                        sub_data3.append(np.mean(result[\"round_success_ratio_tracking\"]))\n",
    "                    else:\n",
    "                        sub_data1.append(None)\n",
    "                        sub_data2.append(None)\n",
    "                        sub_data3.append(None)\n",
    "                avg_delay.append(sub_data1)\n",
    "                hit_ratio.append(sub_data2)\n",
    "                success_ratio.append(sub_data3)"
   ]
  },
  {
   "cell_type": "code",
   "execution_count": 759,
   "metadata": {},
   "outputs": [
    {
     "data": {
      "text/plain": [
       "['Random_Drl',\n",
       " 'Random_Norsu',\n",
       " 'Mcfed_Random',\n",
       " 'Mcfed_Greedy',\n",
       " 'Mcfed_Drl',\n",
       " 'Avgfed_Drl',\n",
       " 'Nocache_Drl']"
      ]
     },
     "execution_count": 759,
     "metadata": {},
     "output_type": "execute_result"
    }
   ],
   "source": [
    "labels"
   ]
  },
  {
   "cell_type": "code",
   "execution_count": 760,
   "metadata": {},
   "outputs": [
    {
     "name": "stdout",
     "output_type": "stream",
     "text": [
      "Random_Drl 186.8583|0.0000|0.0000|0.0000|0.0000|0.0000\n",
      "Random_Norsu 363.7028|0.0000|0.0000|0.0000|0.0000|0.0000\n",
      "Mcfed_Random 229.2685|0.0000|0.0000|0.0000|0.0000|0.0000\n",
      "Mcfed_Greedy 205.4945|0.0000|0.0000|0.0000|0.0000|0.0000\n",
      "Mcfed_Drl 0.0000|0.0000|0.0000|0.0000|0.0000|0.0000\n",
      "Avgfed_Drl 0.0000|0.0000|0.0000|0.0000|0.0000|0.0000\n",
      "Nocache_Drl 186.9657|186.8629|186.9649|187.0036|186.9494|187.0589\n"
     ]
    }
   ],
   "source": [
    "show(avg_delay, 1000, labels)"
   ]
  },
  {
   "cell_type": "code",
   "execution_count": 761,
   "metadata": {},
   "outputs": [
    {
     "name": "stdout",
     "output_type": "stream",
     "text": [
      "\n",
      "\n",
      "\n",
      "\n",
      "\n",
      "\n",
      "\n"
     ]
    }
   ],
   "source": [
    "show(hit_ratio)"
   ]
  }
 ],
 "metadata": {
  "kernelspec": {
   "display_name": "mcfed",
   "language": "python",
   "name": "python3"
  },
  "language_info": {
   "codemirror_mode": {
    "name": "ipython",
    "version": 3
   },
   "file_extension": ".py",
   "mimetype": "text/x-python",
   "name": "python",
   "nbconvert_exporter": "python",
   "pygments_lexer": "ipython3",
   "version": "3.10.15"
  }
 },
 "nbformat": 4,
 "nbformat_minor": 2
}
