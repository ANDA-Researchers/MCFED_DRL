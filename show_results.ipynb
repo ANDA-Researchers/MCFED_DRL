{
 "cells": [
  {
   "cell_type": "code",
   "execution_count": 380,
   "metadata": {},
   "outputs": [],
   "source": [
    "import json\n",
    "import os\n",
    "\n",
    "import matplotlib.pyplot as plt\n",
    "import numpy as np\n",
    "\n",
    "result_dir = os.path.join(os.getcwd(), \"results\")\n",
    "results = os.listdir(result_dir)\n",
    "\n",
    "def load(f):\n",
    "    file_dir = os.path.join(result_dir, f, \"results.json\")\n",
    "    with open(file_dir, \"r\") as f:\n",
    "\n",
    "        results = json.load(f)\n",
    "    return results\n",
    "\n",
    "# create a function that captalizes the first letter of a word\n",
    "def capitalize(string):\n",
    "    return string[0].upper() + string[1:]\n",
    "\n",
    "def load_from_query(query):\n",
    "    results = []\n",
    "    for f in os.listdir(result_dir):\n",
    "        if f.find(query) != -1:\n",
    "            return load(f)\n",
    "    return None\n",
    "\n",
    "cache_sizes = [5, 10, 30, 50, 80, 100]\n",
    "NR = 3\n",
    "Nr = 30\n",
    "\n",
    "data = []\n",
    "labels = []\n",
    "\n",
    "for cache in [\"random\",\"mcfed\",\"avgfed\",\"nocache\",]:\n",
    "    for delivery in [\"random\", \"greedy\", \"drl\", \"norsu\"]:\n",
    "                if cache in [\"random\", \"avgfed\", \"nocache\"] and delivery not in [\n",
    "                    \"drl\",\n",
    "                    \"norsu\",\n",
    "                ]:\n",
    "                    continue\n",
    "                if delivery == \"norsu\" and cache != \"random\":\n",
    "                    continue\n",
    "                \n",
    "                labels.append(f\"{capitalize(cache)}_{capitalize(delivery)}\")\n",
    "                sub_data = []\n",
    "                for cache_size in cache_sizes:\n",
    "                    query = f\"{NR}_{cache_size}_{Nr}_{cache}_{delivery}\"\n",
    "                    result = load_from_query(query)\n",
    "                    if result:\n",
    "                        sub_data.append(np.mean(result[\"round_avg_delay_tracking\"]))\n",
    "                    else:\n",
    "                        sub_data.append(None)\n",
    "                data.append(sub_data)"
   ]
  },
  {
   "cell_type": "code",
   "execution_count": 381,
   "metadata": {},
   "outputs": [
    {
     "data": {
      "text/plain": [
       "['Random_Drl',\n",
       " 'Random_Norsu',\n",
       " 'Mcfed_Random',\n",
       " 'Mcfed_Greedy',\n",
       " 'Mcfed_Drl',\n",
       " 'Avgfed_Drl',\n",
       " 'Nocache_Drl']"
      ]
     },
     "execution_count": 381,
     "metadata": {},
     "output_type": "execute_result"
    }
   ],
   "source": [
    "labels"
   ]
  },
  {
   "cell_type": "code",
   "execution_count": 382,
   "metadata": {},
   "outputs": [
    {
     "data": {
      "text/plain": [
       "[[0.18685834621058156, None, None, None, None, None],\n",
       " [0.3637027587236091, None, None, None, None, None],\n",
       " [0.2315945414383512, None, None, None, None, None],\n",
       " [0.193891570167209, None, None, None, None, None],\n",
       " [None, None, None, None, None, None],\n",
       " [None, None, None, None, None, None],\n",
       " [None, None, None, None, None, None]]"
      ]
     },
     "execution_count": 382,
     "metadata": {},
     "output_type": "execute_result"
    }
   ],
   "source": [
    "data"
   ]
  }
 ],
 "metadata": {
  "kernelspec": {
   "display_name": "mcfed",
   "language": "python",
   "name": "python3"
  },
  "language_info": {
   "codemirror_mode": {
    "name": "ipython",
    "version": 3
   },
   "file_extension": ".py",
   "mimetype": "text/x-python",
   "name": "python",
   "nbconvert_exporter": "python",
   "pygments_lexer": "ipython3",
   "version": "3.10.14"
  }
 },
 "nbformat": 4,
 "nbformat_minor": 2
}
